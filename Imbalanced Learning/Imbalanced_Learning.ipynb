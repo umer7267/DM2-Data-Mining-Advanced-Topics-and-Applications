{
  "nbformat": 4,
  "nbformat_minor": 0,
  "metadata": {
    "colab": {
      "provenance": []
    },
    "kernelspec": {
      "name": "python3",
      "display_name": "Python 3"
    },
    "language_info": {
      "name": "python"
    }
  },
  "cells": [
    {
      "cell_type": "markdown",
      "metadata": {
        "id": "5bf7ad72"
      },
      "source": [
        "# Imbalanced Learning"
      ]
    },
    {
      "cell_type": "markdown",
      "metadata": {
        "id": "5df075d4"
      },
      "source": [
        "## Preprocessing"
      ]
    },
    {
      "cell_type": "code",
      "execution_count": null,
      "metadata": {
        "id": "716e8b44"
      },
      "outputs": [],
      "source": [
        "color0 = '#FD4F0F'\n",
        "color1 = '#15B985'\n",
        "colordark0 = '#882501'\n",
        "colordark1 = '#448D76'\n",
        "\n",
        "colors =[color0,color1]\n",
        "colorsdark = [colordark0 ,colordark1]"
      ]
    },
    {
      "cell_type": "code",
      "execution_count": null,
      "metadata": {
        "id": "1bc97b58",
        "outputId": "d21d1d64-9809-4c9d-e93c-791b952ed5e2"
      },
      "outputs": [
        {
          "name": "stdout",
          "output_type": "stream",
          "text": [
            "(1828, 425)\n",
            "(1828,)\n",
            "[[1 0]\n",
            " [1 0]\n",
            " [1 0]\n",
            " ...\n",
            " [1 0]\n",
            " [1 0]\n",
            " [1 0]]\n",
            "(1828, 2)\n",
            "(624, 425)\n",
            "(624,)\n",
            "[[1 0]\n",
            " [1 0]\n",
            " [1 0]\n",
            " ...\n",
            " [0 1]\n",
            " [0 1]\n",
            " [0 1]]\n",
            "(624, 2)\n"
          ]
        }
      ],
      "source": [
        "#For binaryclass\n",
        "X_train = df_train.drop([\"modality\", \"vocal_channel\", \"emotion\", \"actor\", \"emotional_intensity\", \"statement\", \"repetition\", \"sex\", \"filename\"], axis='columns')\n",
        "y_train = df_train[\"vocal_channel\"]\n",
        "# y_train = y_train.ravel()\n",
        "\n",
        "X_test = df_test.drop([\"modality\", \"vocal_channel\", \"emotion\", \"actor\", \"emotional_intensity\", \"statement\", \"repetition\", \"sex\", \"filename\"], axis='columns')\n",
        "y_test = df_test[\"vocal_channel\"]\n",
        "# y_test = y_test.ravel()\n",
        "\n",
        "lb = MyLabelBinarizer()\n",
        "y_train_bin = lb.fit_transform(y_train)\n",
        "y_test_bin = lb.fit_transform(y_test)\n",
        "n_classes = y_train_bin.shape[1]\n",
        "\n",
        "print(X_train.shape)\n",
        "print(y_train.shape)\n",
        "print(y_train_bin)\n",
        "print(y_train_bin.shape)\n",
        "print(X_test.shape)\n",
        "print(y_test.shape)\n",
        "print(y_test_bin)\n",
        "print(y_test_bin.shape)"
      ]
    },
    {
      "cell_type": "code",
      "execution_count": null,
      "metadata": {
        "id": "3393aa2b",
        "outputId": "6adcdd58-8fe2-4373-f8f7-e177af2fbf8f"
      },
      "outputs": [
        {
          "data": {
            "text/plain": [
              "speech    1080\n",
              "song       748\n",
              "Name: vocal_channel, dtype: int64"
            ]
          },
          "execution_count": 7,
          "metadata": {},
          "output_type": "execute_result"
        }
      ],
      "source": [
        "y_train.value_counts()"
      ]
    },
    {
      "cell_type": "code",
      "execution_count": null,
      "metadata": {
        "id": "ebba20e6",
        "outputId": "0e005c19-110d-4646-a95e-ed8955b38e3b"
      },
      "outputs": [
        {
          "data": {
            "text/plain": [
              "<AxesSubplot:ylabel='vocal_channel'>"
            ]
          },
          "execution_count": 8,
          "metadata": {},
          "output_type": "execute_result"
        },
        {
          "data": {
            "image/png": "[encoded data removed]",
            "text/plain": [
              "<Figure size 640x480 with 1 Axes>"
            ]
          },
          "metadata": {},
          "output_type": "display_data"
        }
      ],
      "source": [
        "y_train.value_counts().plot(kind = 'pie', colors = (color0, color1),explode= (0,0.1),autopct='%1.1f%%')"
      ]
    },
    {
      "cell_type": "code",
      "execution_count": null,
      "metadata": {
        "id": "45d44980",
        "outputId": "c0fe0bd5-ab4b-4006-a064-068db7e3b41e"
      },
      "outputs": [
        {
          "data": {
            "text/plain": [
              "748"
            ]
          },
          "execution_count": 18,
          "metadata": {},
          "output_type": "execute_result"
        }
      ],
      "source": [
        "(y_train == 'song').sum()"
      ]
    },
    {
      "cell_type": "code",
      "execution_count": null,
      "metadata": {
        "id": "f3c847e0",
        "outputId": "3d83235c-db75-4f91-8e0d-54cafffa6730"
      },
      "outputs": [
        {
          "data": {
            "text/plain": [
              "(748, 0.6925925925925925)"
            ]
          },
          "execution_count": 19,
          "metadata": {},
          "output_type": "execute_result"
        }
      ],
      "source": [
        "size_class2 = (y_train == 'song').sum()\n",
        "pct_class2 = (y_train == 'song').sum()/(y_train == 'speech').sum()\n",
        "size_class2, pct_class2"
      ]
    },
    {
      "cell_type": "code",
      "execution_count": null,
      "metadata": {
        "id": "f4909846",
        "outputId": "eb06e1c3-404b-4e86-89aa-881656f82182"
      },
      "outputs": [
        {
          "data": {
            "text/plain": [
              "43"
            ]
          },
          "execution_count": 20,
          "metadata": {},
          "output_type": "execute_result"
        }
      ],
      "source": [
        "new_size_class2 = int(size_class2 * 0.04 / pct_class2)\n",
        "new_size_class2"
      ]
    },
    {
      "cell_type": "code",
      "execution_count": null,
      "metadata": {
        "id": "620437f7",
        "outputId": "03781684-c7ca-4def-8e06-8fc3c9e7e293"
      },
      "outputs": [
        {
          "data": {
            "text/plain": [
              "speech    360\n",
              "song      264\n",
              "Name: vocal_channel, dtype: int64"
            ]
          },
          "execution_count": 21,
          "metadata": {},
          "output_type": "execute_result"
        }
      ],
      "source": [
        "y_test.value_counts()"
      ]
    },
    {
      "cell_type": "code",
      "execution_count": null,
      "metadata": {
        "id": "c039f102",
        "outputId": "9ace327c-d645-408d-854c-366b47cdc13b"
      },
      "outputs": [
        {
          "data": {
            "text/plain": [
              "<AxesSubplot:ylabel='vocal_channel'>"
            ]
          },
          "execution_count": 22,
          "metadata": {},
          "output_type": "execute_result"
        },
        {
          "data": {
            "image/png": "[encoded data removed]",
            "text/plain": [
              "<Figure size 640x480 with 1 Axes>"
            ]
          },
          "metadata": {},
          "output_type": "display_data"
        }
      ],
      "source": [
        "y_test.value_counts().plot(kind = 'pie', colors = (color0, color1),explode= (0,0.1),autopct='%1.1f%%')"
      ]
    },
    {
      "cell_type": "code",
      "execution_count": null,
      "metadata": {
        "id": "b5fef178",
        "outputId": "bf0a466c-dac7-47b1-bc40-d97a2defbd8c"
      },
      "outputs": [
        {
          "data": {
            "text/plain": [
              "264"
            ]
          },
          "execution_count": 23,
          "metadata": {},
          "output_type": "execute_result"
        }
      ],
      "source": [
        "(y_test == 'song').sum()"
      ]
    },
    {
      "cell_type": "code",
      "execution_count": null,
      "metadata": {
        "id": "760fd71b",
        "outputId": "1f2d342e-90d8-42e8-a0ad-ad3c7d4aa27f"
      },
      "outputs": [
        {
          "data": {
            "text/plain": [
              "(264, 0.7333333333333333)"
            ]
          },
          "execution_count": 24,
          "metadata": {},
          "output_type": "execute_result"
        }
      ],
      "source": [
        "test_size_class2 = (y_test == 'song').sum()\n",
        "test_pct_class2 = (y_test == 'song').sum()/(y_test == 'speech').sum()\n",
        "test_size_class2, test_pct_class2"
      ]
    },
    {
      "cell_type": "code",
      "execution_count": null,
      "metadata": {
        "id": "ab28c048",
        "outputId": "3689c359-5588-45e5-cd0d-5deca4a0a353"
      },
      "outputs": [
        {
          "data": {
            "text/plain": [
              "14"
            ]
          },
          "execution_count": 25,
          "metadata": {},
          "output_type": "execute_result"
        }
      ],
      "source": [
        "test_new_size_class2 = int(test_size_class2 * 0.04 / test_pct_class2)\n",
        "test_new_size_class2"
      ]
    },
    {
      "cell_type": "markdown",
      "metadata": {
        "id": "d83ff729"
      },
      "source": [
        "## Random Oversampling"
      ]
    },
    {
      "cell_type": "code",
      "execution_count": null,
      "metadata": {
        "id": "06bb5c34",
        "outputId": "b65f80bc-489d-4c99-e0ed-08804d5c8e81"
      },
      "outputs": [
        {
          "data": {
            "text/plain": [
              "(703, 1125)"
            ]
          },
          "execution_count": 26,
          "metadata": {},
          "output_type": "execute_result"
        }
      ],
      "source": [
        "np.random.seed(18)\n",
        "rows2remove = np.random.choice(df_train[df_train['vocal_channel'] == 'song'].index, size_class2 - (new_size_class2+2) , replace=False)\n",
        "df_imb = df_train.drop(index=rows2remove, axis=0)\n",
        "\n",
        "len(rows2remove), len(df_imb)"
      ]
    },
    {
      "cell_type": "code",
      "execution_count": null,
      "metadata": {
        "id": "e379002a",
        "outputId": "82195115-f41e-4367-e7f7-a6bd9c61cc6f"
      },
      "outputs": [
        {
          "name": "stdout",
          "output_type": "stream",
          "text": [
            "Dataset shape Counter({'speech': 1080, 'song': 45})\n"
          ]
        }
      ],
      "source": [
        "print('Dataset shape %s' % Counter(df_imb['vocal_channel']))"
      ]
    },
    {
      "cell_type": "code",
      "execution_count": null,
      "metadata": {
        "id": "138cfbf1",
        "outputId": "bcf6a6dc-ec2d-416f-9695-1678a2e49f78"
      },
      "outputs": [
        {
          "data": {
            "text/plain": [
              "<AxesSubplot:ylabel='vocal_channel'>"
            ]
          },
          "execution_count": 28,
          "metadata": {},
          "output_type": "execute_result"
        },
        {
          "data": {
            "image/png": "[encoded data removed]",
            "text/plain": [
              "<Figure size 640x480 with 1 Axes>"
            ]
          },
          "metadata": {},
          "output_type": "display_data"
        }
      ],
      "source": [
        "df_imb['vocal_channel'].value_counts().plot(kind = 'pie', colors = (color0, color1),explode= (0,0.1),autopct='%1.1f%%')"
      ]
    },
    {
      "cell_type": "code",
      "execution_count": null,
      "metadata": {
        "id": "f6644f36"
      },
      "outputs": [],
      "source": [
        "#For binaryclass\n",
        "X_train = df_imb.drop([\"modality\", \"vocal_channel\", \"emotion\", \"actor\", \"emotional_intensity\", \"statement\", \"repetition\", \"sex\", \"filename\"], axis='columns')\n",
        "y_train = df_imb[\"vocal_channel\"]\n",
        "# y_train = y_train.ravel()\n",
        "\n",
        "X_test = df_test.drop([\"modality\", \"vocal_channel\", \"emotion\", \"actor\", \"emotional_intensity\", \"statement\", \"repetition\", \"sex\", \"filename\"], axis='columns')\n",
        "y_test = df_test[\"vocal_channel\"]\n",
        "# y_test = y_test.ravel()\n",
        "\n",
        "lb = MyLabelBinarizer()\n",
        "y_train_bin = lb.fit_transform(y_train)\n",
        "y_test_bin = lb.fit_transform(y_test)\n",
        "n_classes = y_train_bin.shape[1]"
      ]
    },
    {
      "cell_type": "code",
      "execution_count": null,
      "metadata": {
        "id": "58b957a7",
        "outputId": "28b3ae8f-d2d3-4573-97a1-78101ebf716c"
      },
      "outputs": [
        {
          "data": {
            "text/plain": [
              "0      speech\n",
              "1      speech\n",
              "2      speech\n",
              "3      speech\n",
              "4      speech\n",
              "        ...  \n",
              "619      song\n",
              "620      song\n",
              "621      song\n",
              "622      song\n",
              "623      song\n",
              "Name: vocal_channel, Length: 624, dtype: object"
            ]
          },
          "execution_count": 235,
          "metadata": {},
          "output_type": "execute_result"
        }
      ],
      "source": [
        "y_test"
      ]
    },
    {
      "cell_type": "code",
      "execution_count": null,
      "metadata": {
        "id": "6978ca97"
      },
      "outputs": [],
      "source": [
        "# define min max scaler\n",
        "scaler = MinMaxScaler()\n",
        "X_train_scale = scaler.fit_transform(X_train)\n",
        "y_train_scale = scaler.fit_transform(y_train_bin)\n",
        "X_test_scale = scaler.fit_transform(X_test)\n",
        "y_test_scale = scaler.fit_transform(y_test_bin)"
      ]
    },
    {
      "cell_type": "code",
      "execution_count": null,
      "metadata": {
        "id": "a07205bd",
        "outputId": "9be419da-3acc-46b6-932a-6a742a3ad09b"
      },
      "outputs": [
        {
          "data": {
            "text/plain": [
              "array([[1., 0.],\n",
              "       [1., 0.],\n",
              "       [1., 0.],\n",
              "       ...,\n",
              "       [0., 1.],\n",
              "       [0., 1.],\n",
              "       [0., 1.]])"
            ]
          },
          "execution_count": 31,
          "metadata": {},
          "output_type": "execute_result"
        }
      ],
      "source": [
        "y_test_scale"
      ]
    },
    {
      "cell_type": "code",
      "execution_count": null,
      "metadata": {
        "id": "e981538a",
        "outputId": "12006ede-b687-47b7-b097-acbcc53d72a8"
      },
      "outputs": [
        {
          "name": "stdout",
          "output_type": "stream",
          "text": [
            "Accuracy 0.8205128205128205\n",
            "F1-score [0.86538462 0.73076923]\n",
            "              precision    recall  f1-score   support\n",
            "\n",
            "           0       0.76      1.00      0.87       360\n",
            "           1       1.00      0.58      0.73       264\n",
            "\n",
            "   micro avg       0.82      0.82      0.82       624\n",
            "   macro avg       0.88      0.79      0.80       624\n",
            "weighted avg       0.86      0.82      0.81       624\n",
            " samples avg       0.82      0.82      0.82       624\n",
            "\n"
          ]
        }
      ],
      "source": [
        "clf = KNeighborsClassifier()\n",
        "clf.fit(X_train_scale, y_train_scale)\n",
        "\n",
        "y_pred0 = clf.predict(X_test_scale)\n",
        "\n",
        "print('Accuracy %s' % accuracy_score(y_test_scale, y_pred0))\n",
        "print('F1-score %s' % f1_score(y_test_scale, y_pred0, average=None))\n",
        "print(classification_report(y_test_scale, y_pred0))"
      ]
    },
    {
      "cell_type": "code",
      "execution_count": null,
      "metadata": {
        "id": "e29cc90c",
        "outputId": "f9e0e1d5-f5fd-4f49-d391-07f1e3de936e",
        "scrolled": false
      },
      "outputs": [
        {
          "data": {
            "image/png": "[encoded data removed]",
            "text/plain": [
              "<Figure size 640x480 with 2 Axes>"
            ]
          },
          "metadata": {},
          "output_type": "display_data"
        }
      ],
      "source": [
        "cf = confusion_matrix(y_test_scale.argmax(axis=1), y_pred0.argmax(axis=1))\n",
        "sns.heatmap(cf, annot=True, cmap=\"Blues\")\n",
        "plt.xlabel(\"True\")\n",
        "plt.ylabel(\"Predicted\")\n",
        "plt.show()"
      ]
    },
    {
      "cell_type": "code",
      "execution_count": null,
      "metadata": {
        "id": "ddc250b0",
        "outputId": "5f39f010-b4bf-4e22-e947-292f78aa093a"
      },
      "outputs": [
        {
          "name": "stdout",
          "output_type": "stream",
          "text": [
            "Resampled dataset shape Counter({'speech': 1080, 'song': 1080})\n"
          ]
        }
      ],
      "source": [
        "ros = RandomOverSampler(random_state=42)\n",
        "X_res, y_res = ros.fit_resample(X_train, y_train)\n",
        "print('Resampled dataset shape %s' % Counter(y_res))"
      ]
    },
    {
      "cell_type": "code",
      "execution_count": null,
      "metadata": {
        "id": "3780f4c6"
      },
      "outputs": [],
      "source": [
        "y_train_bin = lb.fit_transform(y_res)"
      ]
    },
    {
      "cell_type": "code",
      "execution_count": null,
      "metadata": {
        "id": "12e8a234"
      },
      "outputs": [],
      "source": [
        "X_train_scale = scaler.fit_transform(X_res)\n",
        "y_train_scale = scaler.fit_transform(y_train_bin)\n",
        "X_test_scale = scaler.fit_transform(X_test)\n",
        "y_test_scale = scaler.fit_transform(y_test_bin)"
      ]
    },
    {
      "cell_type": "code",
      "execution_count": null,
      "metadata": {
        "id": "2ec22f51",
        "outputId": "cabef426-9341-426a-d5e4-75bce7c868cc"
      },
      "outputs": [
        {
          "name": "stdout",
          "output_type": "stream",
          "text": [
            "Accuracy 0.9423076923076923\n",
            "F1-score [0.94842407 0.93454545]\n",
            "              precision    recall  f1-score   support\n",
            "\n",
            "           0       0.98      0.92      0.95       360\n",
            "           1       0.90      0.97      0.93       264\n",
            "\n",
            "   micro avg       0.94      0.94      0.94       624\n",
            "   macro avg       0.94      0.95      0.94       624\n",
            "weighted avg       0.95      0.94      0.94       624\n",
            " samples avg       0.94      0.94      0.94       624\n",
            "\n"
          ]
        }
      ],
      "source": [
        "clf = KNeighborsClassifier()\n",
        "\n",
        "clf.fit(X_train_scale, y_train_scale)\n",
        "\n",
        "y_pred = clf.predict(X_test_scale)\n",
        "\n",
        "print('Accuracy %s' % accuracy_score(y_test_scale, y_pred))\n",
        "print('F1-score %s' % f1_score(y_test_scale, y_pred, average=None))\n",
        "print(classification_report(y_test_scale, y_pred))"
      ]
    },
    {
      "cell_type": "code",
      "execution_count": null,
      "metadata": {
        "id": "9f253745",
        "outputId": "8b461e61-1d64-4f25-ec78-ba7c1cf9f6b2"
      },
      "outputs": [
        {
          "data": {
            "image/png": "[encoded data removed]",
            "text/plain": [
              "<Figure size 640x480 with 2 Axes>"
            ]
          },
          "metadata": {},
          "output_type": "display_data"
        }
      ],
      "source": [
        "cf = confusion_matrix(y_test_scale.argmax(axis=1), y_pred.argmax(axis=1))\n",
        "sns.heatmap(cf, annot=True, cmap=\"Blues\")\n",
        "plt.xlabel(\"True\")\n",
        "plt.ylabel(\"Predicted\")\n",
        "plt.show()"
      ]
    },
    {
      "cell_type": "code",
      "execution_count": null,
      "metadata": {
        "id": "f446d935",
        "outputId": "4380bfa1-c6a4-4269-a5f0-1d28d7a1e10e"
      },
      "outputs": [
        {
          "name": "stdout",
          "output_type": "stream",
          "text": [
            "Resampled dataset shape Counter({'speech': 1080, 'song': 1080})\n"
          ]
        }
      ],
      "source": [
        "sm = SMOTE(random_state=42)\n",
        "X_res, y_res = sm.fit_resample(X_train, y_train)\n",
        "print('Resampled dataset shape %s' % Counter(y_res))"
      ]
    },
    {
      "cell_type": "code",
      "execution_count": null,
      "metadata": {
        "id": "eb82df09"
      },
      "outputs": [],
      "source": [
        "y_train_bin = lb.fit_transform(y_res)"
      ]
    },
    {
      "cell_type": "code",
      "execution_count": null,
      "metadata": {
        "id": "4e0d043b"
      },
      "outputs": [],
      "source": [
        "X_train_scale = scaler.fit_transform(X_res)\n",
        "y_train_scale = scaler.fit_transform(y_train_bin)\n",
        "X_test_scale = scaler.fit_transform(X_test)\n",
        "y_test_scale = scaler.fit_transform(y_test_bin)"
      ]
    },
    {
      "cell_type": "code",
      "execution_count": null,
      "metadata": {
        "id": "8a644d8b",
        "outputId": "2fa2df37-c5ae-4901-a3ba-c38f520b32fc"
      },
      "outputs": [
        {
          "name": "stdout",
          "output_type": "stream",
          "text": [
            "Accuracy 0.9407051282051282\n",
            "F1-score [0.94691535 0.93284936]\n",
            "              precision    recall  f1-score   support\n",
            "\n",
            "           0       0.98      0.92      0.95       360\n",
            "           1       0.90      0.97      0.93       264\n",
            "\n",
            "   micro avg       0.94      0.94      0.94       624\n",
            "   macro avg       0.94      0.95      0.94       624\n",
            "weighted avg       0.94      0.94      0.94       624\n",
            " samples avg       0.94      0.94      0.94       624\n",
            "\n"
          ]
        }
      ],
      "source": [
        "clf = KNeighborsClassifier()\n",
        "\n",
        "clf.fit(X_train_scale, y_train_scale)\n",
        "\n",
        "y_pred = clf.predict(X_test_scale)\n",
        "\n",
        "print('Accuracy %s' % accuracy_score(y_test_scale, y_pred))\n",
        "print('F1-score %s' % f1_score(y_test_scale, y_pred, average=None))\n",
        "print(classification_report(y_test_scale, y_pred))"
      ]
    },
    {
      "cell_type": "code",
      "execution_count": null,
      "metadata": {
        "id": "bbd423fc",
        "outputId": "1a529124-3697-4eee-b184-a2ca5b2a90e1"
      },
      "outputs": [
        {
          "data": {
            "image/png": "[encoded data removed]",
            "text/plain": [
              "<Figure size 640x480 with 2 Axes>"
            ]
          },
          "metadata": {},
          "output_type": "display_data"
        }
      ],
      "source": [
        "cf = confusion_matrix(y_test_scale.argmax(axis=1), y_pred.argmax(axis=1))\n",
        "sns.heatmap(cf, annot=True, cmap=\"Blues\")\n",
        "plt.xlabel(\"True\")\n",
        "plt.ylabel(\"Predicted\")\n",
        "plt.show()"
      ]
    },
    {
      "cell_type": "code",
      "execution_count": null,
      "metadata": {
        "id": "0ee37134",
        "outputId": "672c0ba3-9578-4960-ed0d-a05c5280d62b"
      },
      "outputs": [
        {
          "name": "stdout",
          "output_type": "stream",
          "text": [
            "(2160, 2)\n"
          ]
        }
      ],
      "source": [
        "# Dopo l'oversampling\n",
        "pca = PCA(n_components=2)\n",
        "X_train_sm_pca = pca.fit_transform(X_train_scale)\n",
        "print(X_train_sm_pca.shape)"
      ]
    },
    {
      "cell_type": "code",
      "execution_count": null,
      "metadata": {
        "id": "71285f02",
        "outputId": "72d3f476-386c-40dc-d34b-2a7fbd98bf12"
      },
      "outputs": [
        {
          "data": {
            "text/plain": [
              "(2160, 2)"
            ]
          },
          "execution_count": 277,
          "metadata": {},
          "output_type": "execute_result"
        }
      ],
      "source": [
        "X_train_sm_pca.shape"
      ]
    },
    {
      "cell_type": "code",
      "execution_count": null,
      "metadata": {
        "id": "a844f115",
        "outputId": "424388b3-8de3-40cc-a642-0310eeb5bc9d"
      },
      "outputs": [
        {
          "data": {
            "text/plain": [
              "numpy.ndarray"
            ]
          },
          "execution_count": 280,
          "metadata": {},
          "output_type": "execute_result"
        }
      ],
      "source": [
        "type(y_train_scale)"
      ]
    },
    {
      "cell_type": "code",
      "execution_count": null,
      "metadata": {
        "id": "a04ae731"
      },
      "outputs": [],
      "source": [
        "y_train_scale_colors = [i[0] for i in y_train_scale]"
      ]
    },
    {
      "cell_type": "code",
      "execution_count": null,
      "metadata": {
        "id": "3ba32430",
        "outputId": "2a9821fc-3d95-444c-a287-336aeafaa030"
      },
      "outputs": [
        {
          "data": {
            "text/plain": [
              "[1.0,\n",
              " 1.0,\n",
              " 1.0,\n",
              " 1.0,\n",
              " 1.0,\n",
              " 1.0,\n",
              " 1.0,\n",
              " 1.0,\n",
              " 1.0,\n",
              " 1.0,\n",
              " 1.0,\n",
              " 1.0,\n",
              " 1.0,\n",
              " 1.0,\n",
              " 1.0,\n",
              " 1.0,\n",
              " 1.0,\n",
              " 1.0,\n",
              " 1.0,\n",
              " 1.0,\n",
              " 1.0,\n",
              " 1.0,\n",
              " 1.0,\n",
              " 1.0,\n",
              " 1.0,\n",
              " 1.0,\n",
              " 1.0,\n",
              " 1.0,\n",
              " 1.0,\n",
              " 1.0,\n",
              " 1.0,\n",
              " 1.0,\n",
              " 1.0,\n",
              " 1.0,\n",
              " 1.0,\n",
              " 1.0,\n",
              " 1.0,\n",
              " 1.0,\n",
              " 1.0,\n",
              " 1.0,\n",
              " 1.0,\n",
              " 1.0,\n",
              " 1.0,\n",
              " 1.0,\n",
              " 1.0,\n",
              " 1.0,\n",
              " 1.0,\n",
              " 1.0,\n",
              " 1.0,\n",
              " 1.0,\n",
              " 1.0,\n",
              " 1.0,\n",
              " 1.0,\n",
              " 1.0,\n",
              " 1.0,\n",
              " 1.0,\n",
              " 1.0,\n",
              " 1.0,\n",
              " 1.0,\n",
              " 1.0,\n",
              " 0.0,\n",
              " 1.0,\n",
              " 1.0,\n",
              " 1.0,\n",
              " 1.0,\n",
              " 1.0,\n",
              " 1.0,\n",
              " 1.0,\n",
              " 1.0,\n",
              " 1.0,\n",
              " 1.0,\n",
              " 1.0,\n",
              " 1.0,\n",
              " 1.0,\n",
              " 1.0,\n",
              " 1.0,\n",
              " 1.0,\n",
              " 1.0,\n",
              " 1.0,\n",
              " 1.0,\n",
              " 1.0,\n",
              " 1.0,\n",
              " 1.0,\n",
              " 1.0,\n",
              " 1.0,\n",
              " 1.0,\n",
              " 1.0,\n",
              " 1.0,\n",
              " 1.0,\n",
              " 1.0,\n",
              " 1.0,\n",
              " 1.0,\n",
              " 1.0,\n",
              " 1.0,\n",
              " 1.0,\n",
              " 1.0,\n",
              " 1.0,\n",
              " 1.0,\n",
              " 1.0,\n",
              " 1.0,\n",
              " 1.0,\n",
              " 1.0,\n",
              " 1.0,\n",
              " 1.0,\n",
              " 1.0,\n",
              " 1.0,\n",
              " 1.0,\n",
              " 1.0,\n",
              " 1.0,\n",
              " 1.0,\n",
              " 1.0,\n",
              " 1.0,\n",
              " 1.0,\n",
              " 1.0,\n",
              " 1.0,\n",
              " 1.0,\n",
              " 1.0,\n",
              " 1.0,\n",
              " 1.0,\n",
              " 1.0,\n",
              " 1.0,\n",
              " 0.0,\n",
              " 1.0,\n",
              " 1.0,\n",
              " 1.0,\n",
              " 1.0,\n",
              " 1.0,\n",
              " 1.0,\n",
              " 1.0,\n",
              " 1.0,\n",
              " 1.0,\n",
              " 1.0,\n",
              " 1.0,\n",
              " 1.0,\n",
              " 1.0,\n",
              " 1.0,\n",
              " 1.0,\n",
              " 1.0,\n",
              " 1.0,\n",
              " 1.0,\n",
              " 1.0,\n",
              " 1.0,\n",
              " 1.0,\n",
              " 1.0,\n",
              " 1.0,\n",
              " 1.0,\n",
              " 1.0,\n",
              " 1.0,\n",
              " 1.0,\n",
              " 1.0,\n",
              " 1.0,\n",
              " 1.0,\n",
              " 1.0,\n",
              " 1.0,\n",
              " 1.0,\n",
              " 1.0,\n",
              " 1.0,\n",
              " 1.0,\n",
              " 1.0,\n",
              " 1.0,\n",
              " 1.0,\n",
              " 1.0,\n",
              " 1.0,\n",
              " 1.0,\n",
              " 1.0,\n",
              " 1.0,\n",
              " 1.0,\n",
              " 1.0,\n",
              " 1.0,\n",
              " 1.0,\n",
              " 1.0,\n",
              " 1.0,\n",
              " 1.0,\n",
              " 1.0,\n",
              " 1.0,\n",
              " 1.0,\n",
              " 1.0,\n",
              " 1.0,\n",
              " 1.0,\n",
              " 1.0,\n",
              " 1.0,\n",
              " 1.0,\n",
              " 0.0,\n",
              " 0.0,\n",
              " 1.0,\n",
              " 1.0,\n",
              " 1.0,\n",
              " 1.0,\n",
              " 1.0,\n",
              " 1.0,\n",
              " 1.0,\n",
              " 1.0,\n",
              " 1.0,\n",
              " 1.0,\n",
              " 1.0,\n",
              " 1.0,\n",
              " 1.0,\n",
              " 1.0,\n",
              " 1.0,\n",
              " 1.0,\n",
              " 1.0,\n",
              " 1.0,\n",
              " 1.0,\n",
              " 1.0,\n",
              " 1.0,\n",
              " 1.0,\n",
              " 1.0,\n",
              " 1.0,\n",
              " 1.0,\n",
              " 1.0,\n",
              " 1.0,\n",
              " 1.0,\n",
              " 1.0,\n",
              " 1.0,\n",
              " 1.0,\n",
              " 1.0,\n",
              " 1.0,\n",
              " 1.0,\n",
              " 1.0,\n",
              " 1.0,\n",
              " 1.0,\n",
              " 1.0,\n",
              " 1.0,\n",
              " 1.0,\n",
              " 1.0,\n",
              " 1.0,\n",
              " 1.0,\n",
              " 1.0,\n",
              " 1.0,\n",
              " 1.0,\n",
              " 1.0,\n",
              " 1.0,\n",
              " 1.0,\n",
              " 1.0,\n",
              " 1.0,\n",
              " 1.0,\n",
              " 1.0,\n",
              " 1.0,\n",
              " 1.0,\n",
              " 1.0,\n",
              " 1.0,\n",
              " 1.0,\n",
              " 1.0,\n",
              " 1.0,\n",
              " 0.0,\n",
              " 0.0,\n",
              " 0.0,\n",
              " 0.0,\n",
              " 1.0,\n",
              " 1.0,\n",
              " 1.0,\n",
              " 1.0,\n",
              " 1.0,\n",
              " 1.0,\n",
              " 1.0,\n",
              " 1.0,\n",
              " 1.0,\n",
              " 1.0,\n",
              " 1.0,\n",
              " 1.0,\n",
              " 1.0,\n",
              " 1.0,\n",
              " 1.0,\n",
              " 1.0,\n",
              " 1.0,\n",
              " 1.0,\n",
              " 1.0,\n",
              " 1.0,\n",
              " 1.0,\n",
              " 1.0,\n",
              " 1.0,\n",
              " 1.0,\n",
              " 1.0,\n",
              " 1.0,\n",
              " 1.0,\n",
              " 1.0,\n",
              " 1.0,\n",
              " 1.0,\n",
              " 1.0,\n",
              " 1.0,\n",
              " 1.0,\n",
              " 1.0,\n",
              " 1.0,\n",
              " 1.0,\n",
              " 1.0,\n",
              " 1.0,\n",
              " 1.0,\n",
              " 1.0,\n",
              " 1.0,\n",
              " 1.0,\n",
              " 1.0,\n",
              " 1.0,\n",
              " 1.0,\n",
              " 1.0,\n",
              " 1.0,\n",
              " 1.0,\n",
              " 1.0,\n",
              " 1.0,\n",
              " 1.0,\n",
              " 1.0,\n",
              " 1.0,\n",
              " 1.0,\n",
              " 1.0,\n",
              " 1.0,\n",
              " 1.0,\n",
              " 1.0,\n",
              " 1.0,\n",
              " 1.0,\n",
              " 0.0,\n",
              " 1.0,\n",
              " 1.0,\n",
              " 1.0,\n",
              " 1.0,\n",
              " 1.0,\n",
              " 1.0,\n",
              " 1.0,\n",
              " 1.0,\n",
              " 1.0,\n",
              " 1.0,\n",
              " 1.0,\n",
              " 1.0,\n",
              " 1.0,\n",
              " 1.0,\n",
              " 1.0,\n",
              " 1.0,\n",
              " 1.0,\n",
              " 1.0,\n",
              " 1.0,\n",
              " 1.0,\n",
              " 1.0,\n",
              " 1.0,\n",
              " 1.0,\n",
              " 1.0,\n",
              " 1.0,\n",
              " 1.0,\n",
              " 1.0,\n",
              " 1.0,\n",
              " 1.0,\n",
              " 1.0,\n",
              " 1.0,\n",
              " 1.0,\n",
              " 1.0,\n",
              " 1.0,\n",
              " 1.0,\n",
              " 1.0,\n",
              " 1.0,\n",
              " 1.0,\n",
              " 1.0,\n",
              " 1.0,\n",
              " 1.0,\n",
              " 1.0,\n",
              " 1.0,\n",
              " 1.0,\n",
              " 1.0,\n",
              " 1.0,\n",
              " 1.0,\n",
              " 1.0,\n",
              " 1.0,\n",
              " 1.0,\n",
              " 1.0,\n",
              " 1.0,\n",
              " 1.0,\n",
              " 1.0,\n",
              " 1.0,\n",
              " 1.0,\n",
              " 1.0,\n",
              " 1.0,\n",
              " 1.0,\n",
              " 1.0,\n",
              " 0.0,\n",
              " 0.0,\n",
              " 0.0,\n",
              " 1.0,\n",
              " 1.0,\n",
              " 1.0,\n",
              " 1.0,\n",
              " 1.0,\n",
              " 1.0,\n",
              " 1.0,\n",
              " 1.0,\n",
              " 1.0,\n",
              " 1.0,\n",
              " 1.0,\n",
              " 1.0,\n",
              " 1.0,\n",
              " 1.0,\n",
              " 1.0,\n",
              " 1.0,\n",
              " 1.0,\n",
              " 1.0,\n",
              " 1.0,\n",
              " 1.0,\n",
              " 1.0,\n",
              " 1.0,\n",
              " 1.0,\n",
              " 1.0,\n",
              " 1.0,\n",
              " 1.0,\n",
              " 1.0,\n",
              " 1.0,\n",
              " 1.0,\n",
              " 1.0,\n",
              " 1.0,\n",
              " 1.0,\n",
              " 1.0,\n",
              " 1.0,\n",
              " 1.0,\n",
              " 1.0,\n",
              " 1.0,\n",
              " 1.0,\n",
              " 1.0,\n",
              " 1.0,\n",
              " 1.0,\n",
              " 1.0,\n",
              " 1.0,\n",
              " 1.0,\n",
              " 1.0,\n",
              " 1.0,\n",
              " 1.0,\n",
              " 1.0,\n",
              " 1.0,\n",
              " 1.0,\n",
              " 1.0,\n",
              " 1.0,\n",
              " 1.0,\n",
              " 1.0,\n",
              " 1.0,\n",
              " 1.0,\n",
              " 1.0,\n",
              " 1.0,\n",
              " 1.0,\n",
              " 1.0,\n",
              " 0.0,\n",
              " 0.0,\n",
              " 0.0,\n",
              " 0.0,\n",
              " 0.0,\n",
              " 0.0,\n",
              " 1.0,\n",
              " 1.0,\n",
              " 1.0,\n",
              " 1.0,\n",
              " 1.0,\n",
              " 1.0,\n",
              " 1.0,\n",
              " 1.0,\n",
              " 1.0,\n",
              " 1.0,\n",
              " 1.0,\n",
              " 1.0,\n",
              " 1.0,\n",
              " 1.0,\n",
              " 1.0,\n",
              " 1.0,\n",
              " 1.0,\n",
              " 1.0,\n",
              " 1.0,\n",
              " 1.0,\n",
              " 1.0,\n",
              " 1.0,\n",
              " 1.0,\n",
              " 1.0,\n",
              " 1.0,\n",
              " 1.0,\n",
              " 1.0,\n",
              " 1.0,\n",
              " 1.0,\n",
              " 1.0,\n",
              " 1.0,\n",
              " 1.0,\n",
              " 1.0,\n",
              " 1.0,\n",
              " 1.0,\n",
              " 1.0,\n",
              " 1.0,\n",
              " 1.0,\n",
              " 1.0,\n",
              " 1.0,\n",
              " 1.0,\n",
              " 1.0,\n",
              " 1.0,\n",
              " 1.0,\n",
              " 1.0,\n",
              " 1.0,\n",
              " 1.0,\n",
              " 1.0,\n",
              " 1.0,\n",
              " 1.0,\n",
              " 1.0,\n",
              " 1.0,\n",
              " 1.0,\n",
              " 1.0,\n",
              " 1.0,\n",
              " 1.0,\n",
              " 1.0,\n",
              " 1.0,\n",
              " 1.0,\n",
              " 1.0,\n",
              " 1.0,\n",
              " 1.0,\n",
              " 1.0,\n",
              " 1.0,\n",
              " 1.0,\n",
              " 1.0,\n",
              " 1.0,\n",
              " 1.0,\n",
              " 1.0,\n",
              " 1.0,\n",
              " 1.0,\n",
              " 1.0,\n",
              " 1.0,\n",
              " 1.0,\n",
              " 1.0,\n",
              " 1.0,\n",
              " 1.0,\n",
              " 1.0,\n",
              " 1.0,\n",
              " 1.0,\n",
              " 1.0,\n",
              " 1.0,\n",
              " 1.0,\n",
              " 1.0,\n",
              " 1.0,\n",
              " 1.0,\n",
              " 1.0,\n",
              " 1.0,\n",
              " 1.0,\n",
              " 1.0,\n",
              " 1.0,\n",
              " 1.0,\n",
              " 1.0,\n",
              " 1.0,\n",
              " 1.0,\n",
              " 1.0,\n",
              " 1.0,\n",
              " 1.0,\n",
              " 1.0,\n",
              " 1.0,\n",
              " 1.0,\n",
              " 1.0,\n",
              " 1.0,\n",
              " 1.0,\n",
              " 1.0,\n",
              " 1.0,\n",
              " 1.0,\n",
              " 1.0,\n",
              " 1.0,\n",
              " 1.0,\n",
              " 1.0,\n",
              " 1.0,\n",
              " 1.0,\n",
              " 1.0,\n",
              " 1.0,\n",
              " 1.0,\n",
              " 1.0,\n",
              " 1.0,\n",
              " 1.0,\n",
              " 1.0,\n",
              " 0.0,\n",
              " 0.0,\n",
              " 0.0,\n",
              " 0.0,\n",
              " 1.0,\n",
              " 1.0,\n",
              " 1.0,\n",
              " 1.0,\n",
              " 1.0,\n",
              " 1.0,\n",
              " 1.0,\n",
              " 1.0,\n",
              " 1.0,\n",
              " 1.0,\n",
              " 1.0,\n",
              " 1.0,\n",
              " 1.0,\n",
              " 1.0,\n",
              " 1.0,\n",
              " 1.0,\n",
              " 1.0,\n",
              " 1.0,\n",
              " 1.0,\n",
              " 1.0,\n",
              " 1.0,\n",
              " 1.0,\n",
              " 1.0,\n",
              " 1.0,\n",
              " 1.0,\n",
              " 1.0,\n",
              " 1.0,\n",
              " 1.0,\n",
              " 1.0,\n",
              " 1.0,\n",
              " 1.0,\n",
              " 1.0,\n",
              " 1.0,\n",
              " 1.0,\n",
              " 1.0,\n",
              " 1.0,\n",
              " 1.0,\n",
              " 1.0,\n",
              " 1.0,\n",
              " 1.0,\n",
              " 1.0,\n",
              " 1.0,\n",
              " 1.0,\n",
              " 1.0,\n",
              " 1.0,\n",
              " 1.0,\n",
              " 1.0,\n",
              " 1.0,\n",
              " 1.0,\n",
              " 1.0,\n",
              " 1.0,\n",
              " 1.0,\n",
              " 1.0,\n",
              " 1.0,\n",
              " 1.0,\n",
              " 1.0,\n",
              " 1.0,\n",
              " 1.0,\n",
              " 1.0,\n",
              " 1.0,\n",
              " 0.0,\n",
              " 1.0,\n",
              " 1.0,\n",
              " 1.0,\n",
              " 1.0,\n",
              " 1.0,\n",
              " 1.0,\n",
              " 1.0,\n",
              " 1.0,\n",
              " 1.0,\n",
              " 1.0,\n",
              " 1.0,\n",
              " 1.0,\n",
              " 1.0,\n",
              " 1.0,\n",
              " 1.0,\n",
              " 1.0,\n",
              " 1.0,\n",
              " 1.0,\n",
              " 1.0,\n",
              " 1.0,\n",
              " 1.0,\n",
              " 1.0,\n",
              " 1.0,\n",
              " 1.0,\n",
              " 1.0,\n",
              " 1.0,\n",
              " 1.0,\n",
              " 1.0,\n",
              " 1.0,\n",
              " 1.0,\n",
              " 1.0,\n",
              " 1.0,\n",
              " 1.0,\n",
              " 1.0,\n",
              " 1.0,\n",
              " 1.0,\n",
              " 1.0,\n",
              " 1.0,\n",
              " 1.0,\n",
              " 1.0,\n",
              " 1.0,\n",
              " 1.0,\n",
              " 1.0,\n",
              " 1.0,\n",
              " 1.0,\n",
              " 1.0,\n",
              " 1.0,\n",
              " 1.0,\n",
              " 1.0,\n",
              " 1.0,\n",
              " 1.0,\n",
              " 1.0,\n",
              " 1.0,\n",
              " 1.0,\n",
              " 1.0,\n",
              " 1.0,\n",
              " 1.0,\n",
              " 1.0,\n",
              " 1.0,\n",
              " 1.0,\n",
              " 0.0,\n",
              " 0.0,\n",
              " 1.0,\n",
              " 1.0,\n",
              " 1.0,\n",
              " 1.0,\n",
              " 1.0,\n",
              " 1.0,\n",
              " 1.0,\n",
              " 1.0,\n",
              " 1.0,\n",
              " 1.0,\n",
              " 1.0,\n",
              " 1.0,\n",
              " 1.0,\n",
              " 1.0,\n",
              " 1.0,\n",
              " 1.0,\n",
              " 1.0,\n",
              " 1.0,\n",
              " 1.0,\n",
              " 1.0,\n",
              " 1.0,\n",
              " 1.0,\n",
              " 1.0,\n",
              " 1.0,\n",
              " 1.0,\n",
              " 1.0,\n",
              " 1.0,\n",
              " 1.0,\n",
              " 1.0,\n",
              " 1.0,\n",
              " 1.0,\n",
              " 1.0,\n",
              " 1.0,\n",
              " 1.0,\n",
              " 1.0,\n",
              " 1.0,\n",
              " 1.0,\n",
              " 1.0,\n",
              " 1.0,\n",
              " 1.0,\n",
              " 1.0,\n",
              " 1.0,\n",
              " 1.0,\n",
              " 1.0,\n",
              " 1.0,\n",
              " 1.0,\n",
              " 1.0,\n",
              " 1.0,\n",
              " 1.0,\n",
              " 1.0,\n",
              " 1.0,\n",
              " 1.0,\n",
              " 1.0,\n",
              " 1.0,\n",
              " 1.0,\n",
              " 1.0,\n",
              " 1.0,\n",
              " 1.0,\n",
              " 1.0,\n",
              " 1.0,\n",
              " 0.0,\n",
              " 0.0,\n",
              " 0.0,\n",
              " 1.0,\n",
              " 1.0,\n",
              " 1.0,\n",
              " 1.0,\n",
              " 1.0,\n",
              " 1.0,\n",
              " 1.0,\n",
              " 1.0,\n",
              " 1.0,\n",
              " 1.0,\n",
              " 1.0,\n",
              " 1.0,\n",
              " 1.0,\n",
              " 1.0,\n",
              " 1.0,\n",
              " 1.0,\n",
              " 1.0,\n",
              " 1.0,\n",
              " 1.0,\n",
              " 1.0,\n",
              " 1.0,\n",
              " 1.0,\n",
              " 1.0,\n",
              " 1.0,\n",
              " 1.0,\n",
              " 1.0,\n",
              " 1.0,\n",
              " 1.0,\n",
              " 1.0,\n",
              " 1.0,\n",
              " 1.0,\n",
              " 1.0,\n",
              " 1.0,\n",
              " 1.0,\n",
              " 1.0,\n",
              " 1.0,\n",
              " 1.0,\n",
              " 1.0,\n",
              " 1.0,\n",
              " 1.0,\n",
              " 1.0,\n",
              " 1.0,\n",
              " 1.0,\n",
              " 1.0,\n",
              " 1.0,\n",
              " 1.0,\n",
              " 1.0,\n",
              " 1.0,\n",
              " 1.0,\n",
              " 1.0,\n",
              " 1.0,\n",
              " 1.0,\n",
              " 1.0,\n",
              " 1.0,\n",
              " 1.0,\n",
              " 1.0,\n",
              " 1.0,\n",
              " 1.0,\n",
              " 1.0,\n",
              " 1.0,\n",
              " 0.0,\n",
              " 1.0,\n",
              " 1.0,\n",
              " 1.0,\n",
              " 1.0,\n",
              " 1.0,\n",
              " 1.0,\n",
              " 1.0,\n",
              " 1.0,\n",
              " 1.0,\n",
              " 1.0,\n",
              " 1.0,\n",
              " 1.0,\n",
              " 1.0,\n",
              " 1.0,\n",
              " 1.0,\n",
              " 1.0,\n",
              " 1.0,\n",
              " 1.0,\n",
              " 1.0,\n",
              " 1.0,\n",
              " 1.0,\n",
              " 1.0,\n",
              " 1.0,\n",
              " 1.0,\n",
              " 1.0,\n",
              " 1.0,\n",
              " 1.0,\n",
              " 1.0,\n",
              " 1.0,\n",
              " 1.0,\n",
              " 1.0,\n",
              " 1.0,\n",
              " 1.0,\n",
              " 1.0,\n",
              " 1.0,\n",
              " 1.0,\n",
              " 1.0,\n",
              " 1.0,\n",
              " 1.0,\n",
              " 1.0,\n",
              " 1.0,\n",
              " 1.0,\n",
              " 1.0,\n",
              " 1.0,\n",
              " 1.0,\n",
              " 1.0,\n",
              " 1.0,\n",
              " 1.0,\n",
              " 1.0,\n",
              " 1.0,\n",
              " 1.0,\n",
              " 1.0,\n",
              " 1.0,\n",
              " 1.0,\n",
              " 1.0,\n",
              " 1.0,\n",
              " 1.0,\n",
              " 1.0,\n",
              " 1.0,\n",
              " 1.0,\n",
              " 0.0,\n",
              " 0.0,\n",
              " 0.0,\n",
              " 0.0,\n",
              " 0.0,\n",
              " 0.0,\n",
              " 1.0,\n",
              " 1.0,\n",
              " 1.0,\n",
              " 1.0,\n",
              " 1.0,\n",
              " 1.0,\n",
              " 1.0,\n",
              " 1.0,\n",
              " 1.0,\n",
              " 1.0,\n",
              " 1.0,\n",
              " 1.0,\n",
              " 1.0,\n",
              " 1.0,\n",
              " 1.0,\n",
              " 1.0,\n",
              " 1.0,\n",
              " 1.0,\n",
              " 1.0,\n",
              " 1.0,\n",
              " 1.0,\n",
              " 1.0,\n",
              " 1.0,\n",
              " 1.0,\n",
              " 1.0,\n",
              " 1.0,\n",
              " 1.0,\n",
              " 1.0,\n",
              " 1.0,\n",
              " 1.0,\n",
              " 1.0,\n",
              " 1.0,\n",
              " 1.0,\n",
              " 1.0,\n",
              " 1.0,\n",
              " 1.0,\n",
              " 1.0,\n",
              " 1.0,\n",
              " 1.0,\n",
              " 1.0,\n",
              " 1.0,\n",
              " 1.0,\n",
              " 1.0,\n",
              " 1.0,\n",
              " 1.0,\n",
              " 1.0,\n",
              " 1.0,\n",
              " 1.0,\n",
              " 1.0,\n",
              " 1.0,\n",
              " 1.0,\n",
              " 1.0,\n",
              " 1.0,\n",
              " 1.0,\n",
              " 1.0,\n",
              " 1.0,\n",
              " 1.0,\n",
              " 1.0,\n",
              " 1.0,\n",
              " 1.0,\n",
              " 0.0,\n",
              " 0.0,\n",
              " 0.0,\n",
              " 0.0,\n",
              " 1.0,\n",
              " 1.0,\n",
              " 1.0,\n",
              " 1.0,\n",
              " 1.0,\n",
              " 1.0,\n",
              " 1.0,\n",
              " 1.0,\n",
              " 1.0,\n",
              " 1.0,\n",
              " 1.0,\n",
              " 1.0,\n",
              " 1.0,\n",
              " 1.0,\n",
              " 1.0,\n",
              " 1.0,\n",
              " 1.0,\n",
              " 1.0,\n",
              " 1.0,\n",
              " 1.0,\n",
              " 1.0,\n",
              " 1.0,\n",
              " 1.0,\n",
              " 1.0,\n",
              " 1.0,\n",
              " 1.0,\n",
              " 1.0,\n",
              " 1.0,\n",
              " 1.0,\n",
              " 1.0,\n",
              " 1.0,\n",
              " 1.0,\n",
              " 1.0,\n",
              " 1.0,\n",
              " 1.0,\n",
              " 1.0,\n",
              " 1.0,\n",
              " 1.0,\n",
              " 1.0,\n",
              " 1.0,\n",
              " 1.0,\n",
              " 1.0,\n",
              " 1.0,\n",
              " 1.0,\n",
              " 1.0,\n",
              " 1.0,\n",
              " 1.0,\n",
              " 1.0,\n",
              " 1.0,\n",
              " 1.0,\n",
              " 1.0,\n",
              " 1.0,\n",
              " 1.0,\n",
              " 1.0,\n",
              " 1.0,\n",
              " 1.0,\n",
              " 1.0,\n",
              " 1.0,\n",
              " 1.0,\n",
              " 1.0,\n",
              " 0.0,\n",
              " ...]"
            ]
          },
          "execution_count": 292,
          "metadata": {},
          "output_type": "execute_result"
        }
      ],
      "source": [
        "y_train_scale_colors"
      ]
    },
    {
      "cell_type": "code",
      "execution_count": null,
      "metadata": {
        "id": "733e306b",
        "outputId": "7acc1a64-6b88-48c6-fbe0-b415ac59c1be"
      },
      "outputs": [
        {
          "data": {
            "text/plain": [
              "<matplotlib.legend.Legend at 0x7fa3a9b54d90>"
            ]
          },
          "execution_count": 293,
          "metadata": {},
          "output_type": "execute_result"
        },
        {
          "data": {
            "image/png": "[encoded data removed]",
            "text/plain": [
              "<Figure size 640x480 with 1 Axes>"
            ]
          },
          "metadata": {},
          "output_type": "display_data"
        }
      ],
      "source": [
        "classes = ['0', '1']\n",
        "scatter = plt.scatter(X_train_sm_pca[:, 0], X_train_sm_pca[:, 1], c=y_train_scale_colors, cmap=plt.cm.tab20b, edgecolor='white', linewidth = .7, alpha = .7)\n",
        "plt.title(\"Rebalanced Classes using SMOTE\")\n",
        "plt.legend(handles=scatter.legend_elements()[0], labels=classes)"
      ]
    },
    {
      "cell_type": "markdown",
      "metadata": {
        "id": "3acddade"
      },
      "source": [
        "## Random Undersampling"
      ]
    },
    {
      "cell_type": "code",
      "execution_count": null,
      "metadata": {
        "id": "6a2a2863",
        "outputId": "277a0aba-e011-44fb-af86-238e9646faf8"
      },
      "outputs": [
        {
          "name": "stdout",
          "output_type": "stream",
          "text": [
            "Records before imbalancing class 3:  1828\n",
            "speech    1080\n",
            "song       748\n",
            "Name: vocal_channel, dtype: int64\n"
          ]
        }
      ],
      "source": [
        "data_imb_under = df_train.copy()\n",
        "# data_imb_under['vocal_channel'] = y_label[0].values\n",
        "\n",
        "print(\"Records before imbalancing class 3: \", len(data_imb_under))\n",
        "print(data_imb_under['vocal_channel'].value_counts())"
      ]
    },
    {
      "cell_type": "code",
      "execution_count": null,
      "metadata": {
        "id": "c3c85287",
        "outputId": "c9be05e0-901d-4fb1-cfbe-183e37fccaca"
      },
      "outputs": [
        {
          "name": "stdout",
          "output_type": "stream",
          "text": [
            "\n",
            "Records after imbalancing class 3:  9388\n",
            "speech    8640\n",
            "song       748\n",
            "Name: vocal_channel, dtype: int64 \n",
            "\n"
          ]
        }
      ],
      "source": [
        "# Copiamo e incolliamo la classe 2 per sbilanciarla\n",
        "data_imb_under2 = data_imb_under[data_imb_under['vocal_channel']=='speech']\n",
        "data_imb_under = data_imb_under.append(data_imb_under2, ignore_index = True)\n",
        "data_imb_under = data_imb_under.append(data_imb_under2, ignore_index = True)\n",
        "data_imb_under = data_imb_under.append(data_imb_under2, ignore_index = True)\n",
        "data_imb_under = data_imb_under.append(data_imb_under2, ignore_index = True)\n",
        "data_imb_under = data_imb_under.append(data_imb_under2, ignore_index = True)\n",
        "data_imb_under = data_imb_under.append(data_imb_under2, ignore_index = True)\n",
        "data_imb_under = data_imb_under.append(data_imb_under2, ignore_index = True)\n",
        "\n",
        "print(\"\\nRecords after imbalancing class 3: \", len(data_imb_under))\n",
        "print(data_imb_under['vocal_channel'].value_counts(), \"\\n\")\n",
        "\n",
        "# X_train_imb_under = data_imb_under.iloc[:, 0:561].values\n",
        "# y_train_imb_under = data_imb_under['vocal_channel'].values\n",
        "\n",
        "# # X_train_imb, X_val_imb, y_train_imb, y_val_imb = train_test_split(data_imb1, y_label_imb, test_size=0.30, random_state= 8)\n",
        "\n",
        "# print(X_train_imb_under.shape)\n",
        "# print(y_train_imb_under.shape)"
      ]
    },
    {
      "cell_type": "code",
      "execution_count": null,
      "metadata": {
        "id": "31be8160"
      },
      "outputs": [],
      "source": [
        "#For binaryclass\n",
        "X_train = data_imb_under.drop([\"modality\", \"vocal_channel\", \"emotion\", \"actor\", \"emotional_intensity\", \"statement\", \"repetition\", \"sex\", \"filename\"], axis='columns')\n",
        "y_train = data_imb_under[\"vocal_channel\"]\n",
        "# y_train = y_train.ravel()\n",
        "\n",
        "X_test = df_test.drop([\"modality\", \"vocal_channel\", \"emotion\", \"actor\", \"emotional_intensity\", \"statement\", \"repetition\", \"sex\", \"filename\"], axis='columns')\n",
        "y_test = df_test[\"vocal_channel\"]\n",
        "# y_test = y_test.ravel()\n",
        "\n",
        "lb = MyLabelBinarizer()\n",
        "y_train_bin = lb.fit_transform(y_train)\n",
        "y_test_bin = lb.fit_transform(y_test)\n",
        "n_classes = y_train_bin.shape[1]"
      ]
    },
    {
      "cell_type": "code",
      "execution_count": null,
      "metadata": {
        "id": "3a91689f"
      },
      "outputs": [],
      "source": [
        "# define min max scaler\n",
        "scaler = MinMaxScaler()\n",
        "X_train_scale = scaler.fit_transform(X_train)\n",
        "y_train_scale = scaler.fit_transform(y_train_bin)\n",
        "X_test_scale = scaler.fit_transform(X_test)\n",
        "y_test_scale = scaler.fit_transform(y_test_bin)"
      ]
    },
    {
      "cell_type": "code",
      "execution_count": null,
      "metadata": {
        "id": "6e154a10",
        "outputId": "4ec97ae5-ea5d-4cb0-e641-d2b26c1ec2be"
      },
      "outputs": [
        {
          "name": "stdout",
          "output_type": "stream",
          "text": [
            "Accuracy 0.9455128205128205\n",
            "F1-score [0.9532967  0.93461538]\n",
            "              precision    recall  f1-score   support\n",
            "\n",
            "           0       0.94      0.96      0.95       360\n",
            "           1       0.95      0.92      0.93       264\n",
            "\n",
            "   micro avg       0.95      0.95      0.95       624\n",
            "   macro avg       0.95      0.94      0.94       624\n",
            "weighted avg       0.95      0.95      0.95       624\n",
            " samples avg       0.95      0.95      0.95       624\n",
            "\n"
          ]
        }
      ],
      "source": [
        "clf = KNeighborsClassifier()\n",
        "clf.fit(X_train_scale, y_train_scale)\n",
        "\n",
        "y_pred0 = clf.predict(X_test_scale)\n",
        "\n",
        "print('Accuracy %s' % accuracy_score(y_test_scale, y_pred0))\n",
        "print('F1-score %s' % f1_score(y_test_scale, y_pred0, average=None))\n",
        "print(classification_report(y_test_scale, y_pred0))"
      ]
    },
    {
      "cell_type": "code",
      "execution_count": null,
      "metadata": {
        "id": "98691e41",
        "outputId": "2c79455b-ea0f-45b9-c022-794d97234259"
      },
      "outputs": [
        {
          "data": {
            "image/png": "[encoded data removed]",
            "text/plain": [
              "<Figure size 640x480 with 2 Axes>"
            ]
          },
          "metadata": {},
          "output_type": "display_data"
        }
      ],
      "source": [
        "cf = confusion_matrix(y_test_scale.argmax(axis=1), y_pred0.argmax(axis=1))\n",
        "sns.heatmap(cf, annot=True, cmap=\"Blues\")\n",
        "plt.xlabel(\"True\")\n",
        "plt.ylabel(\"Predicted\")\n",
        "plt.show()"
      ]
    },
    {
      "cell_type": "code",
      "execution_count": null,
      "metadata": {
        "id": "16d4a322"
      },
      "outputs": [],
      "source": [
        "rus = RandomUnderSampler(random_state=42)"
      ]
    },
    {
      "cell_type": "code",
      "execution_count": null,
      "metadata": {
        "id": "99120158",
        "outputId": "9900ff2d-fd38-4276-8564-62f684546723"
      },
      "outputs": [
        {
          "name": "stdout",
          "output_type": "stream",
          "text": [
            "Resampled dataset shape Counter({'song': 748, 'speech': 748})\n"
          ]
        }
      ],
      "source": [
        "X_res, y_res = rus.fit_resample(X_train, y_train)\n",
        "print('Resampled dataset shape %s' % Counter(y_res))"
      ]
    },
    {
      "cell_type": "code",
      "execution_count": null,
      "metadata": {
        "id": "5e61882e"
      },
      "outputs": [],
      "source": [
        "y_train_bin = lb.fit_transform(y_res)\n",
        "X_train_scale = scaler.fit_transform(X_res)\n",
        "y_train_scale = scaler.fit_transform(y_train_bin)\n",
        "X_test_scale = scaler.fit_transform(X_test)\n",
        "y_test_scale = scaler.fit_transform(y_test_bin)"
      ]
    },
    {
      "cell_type": "code",
      "execution_count": null,
      "metadata": {
        "id": "dfd4ff24",
        "outputId": "530701ab-c2ae-44b8-9e2d-5e0eb493c807"
      },
      "outputs": [
        {
          "name": "stdout",
          "output_type": "stream",
          "text": [
            "Accuracy 0.9358974358974359\n",
            "F1-score [0.94219653 0.92805755]\n",
            "              precision    recall  f1-score   support\n",
            "\n",
            "           0       0.98      0.91      0.94       360\n",
            "           1       0.88      0.98      0.93       264\n",
            "\n",
            "   micro avg       0.94      0.94      0.94       624\n",
            "   macro avg       0.93      0.94      0.94       624\n",
            "weighted avg       0.94      0.94      0.94       624\n",
            " samples avg       0.94      0.94      0.94       624\n",
            "\n"
          ]
        }
      ],
      "source": [
        "clf = KNeighborsClassifier()\n",
        "\n",
        "clf.fit(X_train_scale, y_train_scale)\n",
        "\n",
        "y_pred = clf.predict(X_test_scale)\n",
        "\n",
        "print('Accuracy %s' % accuracy_score(y_test_scale, y_pred))\n",
        "print('F1-score %s' % f1_score(y_test_scale, y_pred, average=None))\n",
        "print(classification_report(y_test_scale, y_pred))"
      ]
    },
    {
      "cell_type": "code",
      "execution_count": null,
      "metadata": {
        "id": "fb3b78ba",
        "outputId": "186eda1a-9df8-49b7-d897-6fa47dc8c8c1"
      },
      "outputs": [
        {
          "data": {
            "image/png": "[encoded data removed]",
            "text/plain": [
              "<Figure size 640x480 with 2 Axes>"
            ]
          },
          "metadata": {},
          "output_type": "display_data"
        }
      ],
      "source": [
        "cf = confusion_matrix(y_test_scale.argmax(axis=1), y_pred.argmax(axis=1))\n",
        "sns.heatmap(cf, annot=True, cmap=\"Blues\")\n",
        "plt.xlabel(\"True\")\n",
        "plt.ylabel(\"Predicted\")\n",
        "plt.show()"
      ]
    },
    {
      "cell_type": "code",
      "execution_count": null,
      "metadata": {
        "id": "f82794f9",
        "outputId": "568677de-d17c-4db9-940d-522d5256db99"
      },
      "outputs": [
        {
          "name": "stdout",
          "output_type": "stream",
          "text": [
            "Resampled dataset shape Counter({'song': 748, 'speech': 335})\n"
          ]
        }
      ],
      "source": [
        "cnn = CondensedNearestNeighbour(random_state=42, n_jobs=10)\n",
        "X_res, y_res = cnn.fit_resample(X_train, y_train)\n",
        "print('Resampled dataset shape %s' % Counter(y_res))"
      ]
    },
    {
      "cell_type": "code",
      "execution_count": null,
      "metadata": {
        "id": "659a4b44"
      },
      "outputs": [],
      "source": [
        "y_train_bin = lb.fit_transform(y_res)\n",
        "X_train_scale = scaler.fit_transform(X_res)\n",
        "y_train_scale = scaler.fit_transform(y_train_bin)\n",
        "X_test_scale = scaler.fit_transform(X_test)\n",
        "y_test_scale = scaler.fit_transform(y_test_bin)"
      ]
    },
    {
      "cell_type": "code",
      "execution_count": null,
      "metadata": {
        "id": "3acb6685",
        "outputId": "aa27ceb8-69da-4a0b-ad22-794963748426"
      },
      "outputs": [
        {
          "name": "stdout",
          "output_type": "stream",
          "text": [
            "Accuracy 0.9006410256410257\n",
            "F1-score [0.90662651 0.89383562]\n",
            "              precision    recall  f1-score   support\n",
            "\n",
            "           0       0.99      0.84      0.91       360\n",
            "           1       0.82      0.99      0.89       264\n",
            "\n",
            "   micro avg       0.90      0.90      0.90       624\n",
            "   macro avg       0.90      0.91      0.90       624\n",
            "weighted avg       0.92      0.90      0.90       624\n",
            " samples avg       0.90      0.90      0.90       624\n",
            "\n"
          ]
        }
      ],
      "source": [
        "clf = KNeighborsClassifier()\n",
        "\n",
        "clf.fit(X_train_scale, y_train_scale)\n",
        "\n",
        "y_pred = clf.predict(X_test_scale)\n",
        "\n",
        "print('Accuracy %s' % accuracy_score(y_test_scale, y_pred))\n",
        "print('F1-score %s' % f1_score(y_test_scale, y_pred, average=None))\n",
        "print(classification_report(y_test_scale, y_pred))"
      ]
    },
    {
      "cell_type": "code",
      "execution_count": null,
      "metadata": {
        "id": "2fe1194a",
        "outputId": "613a7287-6c8f-47e8-d6c3-455c26fcce9d"
      },
      "outputs": [
        {
          "data": {
            "image/png": "[encoded data removed]",
            "text/plain": [
              "<Figure size 640x480 with 2 Axes>"
            ]
          },
          "metadata": {},
          "output_type": "display_data"
        }
      ],
      "source": [
        "cf = confusion_matrix(y_test_scale.argmax(axis=1), y_pred.argmax(axis=1))\n",
        "sns.heatmap(cf, annot=True, cmap=\"Blues\")\n",
        "plt.xlabel(\"True\")\n",
        "plt.ylabel(\"Predicted\")\n",
        "plt.show()"
      ]
    }
  ]
}